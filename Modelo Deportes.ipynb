{
 "cells": [
  {
   "cell_type": "code",
   "execution_count": 1,
   "id": "5fc7b484-9250-403f-ab77-0c936348df4a",
   "metadata": {},
   "outputs": [],
   "source": [
    "import random"
   ]
  },
  {
   "cell_type": "code",
   "execution_count": 2,
   "id": "668c765f-1262-4068-bd8f-0313cca2c7f6",
   "metadata": {},
   "outputs": [],
   "source": [
    "import numpy as np\n",
    "import matplotlib.pyplot as plt\n",
    "import seaborn as sns"
   ]
  },
  {
   "cell_type": "code",
   "execution_count": 3,
   "id": "8cffeaab-c88c-4065-8a29-1e1f2d18fc0d",
   "metadata": {},
   "outputs": [
    {
     "data": {
      "text/plain": [
       "<AxesSubplot:>"
      ]
     },
     "execution_count": 3,
     "metadata": {},
     "output_type": "execute_result"
    },
    {
     "data": {
      "image/png": "[encoded data removed]",
      "text/plain": [
       "<Figure size 432x288 with 1 Axes>"
      ]
     },
     "metadata": {
      "needs_background": "light"
     },
     "output_type": "display_data"
    }
   ],
   "source": [
    "Ganancia = []\n",
    "for j in range(20):\n",
    "    Contador = 0\n",
    "    Lista = []\n",
    "    for i in range(100):\n",
    "\n",
    "        x = random.randrange(1,101)\n",
    "        if x < 57:\n",
    "            Contador = Contador +1\n",
    "        else: \n",
    "            Contador = Contador -1\n",
    "    Ganancia = Ganancia + [Contador]\n",
    "Valores, frecuencias = np.unique(Ganancia, return_counts = True)\n",
    "sns.barplot(x=Valores, y=frecuencias)"
   ]
  },
  {
   "cell_type": "code",
   "execution_count": 4,
   "id": "0f23301f-2242-4926-9b83-d880dc7324f9",
   "metadata": {},
   "outputs": [
    {
     "data": {
      "text/plain": [
       "0.9285714285714286"
      ]
     },
     "execution_count": 4,
     "metadata": {},
     "output_type": "execute_result"
    }
   ],
   "source": [
    "Cuenta = 0\n",
    "for i in Valores: \n",
    "    if i > 0:\n",
    "        Cuenta = Cuenta + 1\n",
    "Porcentaje = Cuenta/len(Valores)\n",
    "Porcentaje"
   ]
  },
  {
   "cell_type": "code",
   "execution_count": null,
   "id": "6a96ee2e-9e92-4dde-a803-12000e28b073",
   "metadata": {},
   "outputs": [],
   "source": []
  }
 ],
 "metadata": {
  "kernelspec": {
   "display_name": "Python 3 (ipykernel)",
   "language": "python",
   "name": "python3"
  },
  "language_info": {
   "codemirror_mode": {
    "name": "ipython",
    "version": 3
   },
   "file_extension": ".py",
   "mimetype": "text/x-python",
   "name": "python",
   "nbconvert_exporter": "python",
   "pygments_lexer": "ipython3",
   "version": "3.9.12"
  }
 },
 "nbformat": 4,
 "nbformat_minor": 5
}
